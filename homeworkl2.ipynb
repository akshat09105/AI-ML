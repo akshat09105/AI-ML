{
  "nbformat": 4,
  "nbformat_minor": 0,
  "metadata": {
    "colab": {
      "provenance": [],
      "authorship_tag": "ABX9TyNBxqt7qrC9KdZYv5izyq1P",
      "include_colab_link": true
    },
    "kernelspec": {
      "name": "python3",
      "display_name": "Python 3"
    },
    "language_info": {
      "name": "python"
    }
  },
  "cells": [
    {
      "cell_type": "markdown",
      "metadata": {
        "id": "view-in-github",
        "colab_type": "text"
      },
      "source": [
        "<a href=\"https://colab.research.google.com/github/akshat09105/AI-ML/blob/main/homeworkl2.ipynb\" target=\"_parent\"><img src=\"https://colab.research.google.com/assets/colab-badge.svg\" alt=\"Open In Colab\"/></a>"
      ]
    },
    {
      "cell_type": "markdown",
      "source": [
        "Q1. L is a list defined as L= [11, 12, 13, 14].\n",
        "(i) WAP to add 50 and 60 to L.\n",
        "(ii) WAP to remove 11 and 13from L.\n",
        "(iii) WAP to sort L in ascending order.\n",
        "(iv) WAP to sort L in descending order.\n",
        "(v) WAP to search for 13 in L.\n",
        "(vi) WAP to count the number of elements present in L.\n",
        "(vii) WAP to sum all the elements in L.\n",
        "(viii) WAP to sum all ODD numbers in L.\n",
        "(ix) WAP to sum all EVEN numbers in L.\n",
        "(x) WAP to sum all PRIME numbers in L.\n",
        "(xi) WAP to clear all the elements in L.\n",
        "(xii) WAP to delete L."
      ],
      "metadata": {
        "id": "Lqm6T9qcAyjB"
      }
    },
    {
      "cell_type": "markdown",
      "source": [
        "L is a list defined as L= [11, 12, 13, 14]."
      ],
      "metadata": {
        "id": "9UjeR8fDA8Xf"
      }
    },
    {
      "cell_type": "code",
      "source": [
        "L= [11, 12, 13, 14]"
      ],
      "metadata": {
        "id": "vcPCr5YNA7mU"
      },
      "execution_count": null,
      "outputs": []
    },
    {
      "cell_type": "markdown",
      "source": [
        "(i) WAP to add 50 and 60 to L"
      ],
      "metadata": {
        "id": "9oJVIJ3FBF3C"
      }
    },
    {
      "cell_type": "code",
      "source": [
        "L.append(50)\n",
        "L.append(60)\n",
        "L"
      ],
      "metadata": {
        "colab": {
          "base_uri": "https://localhost:8080/"
        },
        "id": "yYWAtmqVBJLv",
        "outputId": "7ba9dd3c-955b-4e36-94ce-824f758609c4"
      },
      "execution_count": null,
      "outputs": [
        {
          "output_type": "execute_result",
          "data": {
            "text/plain": [
              "[11, 12, 13, 14, 50, 60]"
            ]
          },
          "metadata": {},
          "execution_count": 13
        }
      ]
    },
    {
      "cell_type": "markdown",
      "source": [
        "WAP to remove 11 and 13from L"
      ],
      "metadata": {
        "id": "QRJCZDpLBZQb"
      }
    },
    {
      "cell_type": "code",
      "source": [
        "del L[0]\n",
        "del L[1]\n",
        "L"
      ],
      "metadata": {
        "colab": {
          "base_uri": "https://localhost:8080/"
        },
        "id": "dCs9tkbVBdWi",
        "outputId": "4c4aeaa7-4e0b-4eca-d166-9c7a0e3723ff"
      },
      "execution_count": null,
      "outputs": [
        {
          "output_type": "execute_result",
          "data": {
            "text/plain": [
              "[12, 14, 50, 60]"
            ]
          },
          "metadata": {},
          "execution_count": 14
        }
      ]
    },
    {
      "cell_type": "markdown",
      "source": [
        "WAP to sort L in ascending"
      ],
      "metadata": {
        "id": "yznnqECWCnd_"
      }
    },
    {
      "cell_type": "code",
      "source": [
        "L.sort()\n",
        "L"
      ],
      "metadata": {
        "colab": {
          "base_uri": "https://localhost:8080/"
        },
        "id": "FHGon92pCp8l",
        "outputId": "5aa58360-0ba3-4bbf-b921-afe21adb9642"
      },
      "execution_count": null,
      "outputs": [
        {
          "output_type": "execute_result",
          "data": {
            "text/plain": [
              "[12, 14, 50, 60]"
            ]
          },
          "metadata": {},
          "execution_count": 15
        }
      ]
    },
    {
      "cell_type": "markdown",
      "source": [
        "(iv) WAP to sort L in descending order."
      ],
      "metadata": {
        "id": "FFt1RozsCuDN"
      }
    },
    {
      "cell_type": "code",
      "source": [
        "L.sort(reverse=True)\n",
        "L"
      ],
      "metadata": {
        "colab": {
          "base_uri": "https://localhost:8080/"
        },
        "id": "X4ce00BdCx27",
        "outputId": "43f6b1e8-99d7-4c92-9739-4a55e9850865"
      },
      "execution_count": null,
      "outputs": [
        {
          "output_type": "execute_result",
          "data": {
            "text/plain": [
              "[60, 50, 14, 12]"
            ]
          },
          "metadata": {},
          "execution_count": 16
        }
      ]
    },
    {
      "cell_type": "markdown",
      "source": [
        " (v) WAP to search for 13 in L"
      ],
      "metadata": {
        "id": "Iy8MI5kdC7N2"
      }
    },
    {
      "cell_type": "code",
      "source": [
        "L=[11, 12, 13, 14, 50, 60]"
      ],
      "metadata": {
        "id": "YcWP3Q5sC_1m"
      },
      "execution_count": null,
      "outputs": []
    },
    {
      "cell_type": "code",
      "source": [
        "for i in range(0,len(L)):\n",
        "  if L[i]==13:\n",
        "    print(\"index no of 1 is \",i)"
      ],
      "metadata": {
        "colab": {
          "base_uri": "https://localhost:8080/"
        },
        "id": "aR6EfxHYDFxV",
        "outputId": "9a251b75-945f-4499-eeed-1fb785213470"
      },
      "execution_count": null,
      "outputs": [
        {
          "output_type": "stream",
          "name": "stdout",
          "text": [
            "index no of 1 is  2\n"
          ]
        }
      ]
    },
    {
      "cell_type": "markdown",
      "source": [
        "(vi) WAP to count the number of elements present in L"
      ],
      "metadata": {
        "id": "FnXvUi8KGDLL"
      }
    },
    {
      "cell_type": "code",
      "source": [
        "len(L)"
      ],
      "metadata": {
        "colab": {
          "base_uri": "https://localhost:8080/"
        },
        "id": "kHdqpjabGJCN",
        "outputId": "83f2a51a-8f13-4e44-bfab-d5ae286515a4"
      },
      "execution_count": null,
      "outputs": [
        {
          "output_type": "execute_result",
          "data": {
            "text/plain": [
              "6"
            ]
          },
          "metadata": {},
          "execution_count": 19
        }
      ]
    },
    {
      "cell_type": "markdown",
      "source": [
        "(vii) WAP to sum all the elements in L"
      ],
      "metadata": {
        "id": "e5Z95c0lGLMN"
      }
    },
    {
      "cell_type": "code",
      "source": [
        "sum(L)"
      ],
      "metadata": {
        "colab": {
          "base_uri": "https://localhost:8080/"
        },
        "id": "B2YxIvI6GQkF",
        "outputId": "e52893fe-c877-473d-b8df-b49412917baf"
      },
      "execution_count": null,
      "outputs": [
        {
          "output_type": "execute_result",
          "data": {
            "text/plain": [
              "160"
            ]
          },
          "metadata": {},
          "execution_count": 20
        }
      ]
    },
    {
      "cell_type": "markdown",
      "source": [
        "(viii) WAP to sum all ODD numbers in L."
      ],
      "metadata": {
        "id": "g9mz4arAGTGr"
      }
    },
    {
      "cell_type": "code",
      "source": [
        "s=0\n",
        "for i in L:\n",
        "  if(i%2==0):\n",
        "    s=s+0\n",
        "  else:\n",
        "    s=s+i\n",
        "print(s)"
      ],
      "metadata": {
        "colab": {
          "base_uri": "https://localhost:8080/"
        },
        "id": "NDGAioOlGYTp",
        "outputId": "e892b138-24d5-499f-f89e-e93d8da8f205"
      },
      "execution_count": null,
      "outputs": [
        {
          "output_type": "stream",
          "name": "stdout",
          "text": [
            "24\n"
          ]
        }
      ]
    },
    {
      "cell_type": "markdown",
      "source": [
        "(ix) WAP to sum all EVEN numbers in L"
      ],
      "metadata": {
        "id": "3DjuVRHRGXmD"
      }
    },
    {
      "cell_type": "code",
      "source": [
        "t=0\n",
        "for i in L:\n",
        "  if i%2==0:\n",
        "    t=t+i\n",
        "  else:\n",
        "    t=t+0\n",
        "print(t)"
      ],
      "metadata": {
        "colab": {
          "base_uri": "https://localhost:8080/"
        },
        "id": "LogXf7HgO95C",
        "outputId": "dfc064c8-3c71-43ca-dc86-a6d5ee3867b2"
      },
      "execution_count": null,
      "outputs": [
        {
          "output_type": "stream",
          "name": "stdout",
          "text": [
            "136\n"
          ]
        }
      ]
    },
    {
      "cell_type": "markdown",
      "source": [
        "(x) WAP to sum all PRIME numbers in L."
      ],
      "metadata": {
        "id": "_6sX7h72PUHN"
      }
    },
    {
      "cell_type": "code",
      "source": [
        "def prime_no(n):\n",
        "  for i in range(2,n//2+1):\n",
        "    if(n%i==0):\n",
        "      return 1\n",
        "  return 0\n",
        "t=0\n",
        "for i in L:\n",
        "  if(prime_no(i)==1):\n",
        "    t=t+0\n",
        "  elif(prime_no(i)==0):\n",
        "    t=t+i\n",
        "print(\"sum of all prime no.s\",t)"
      ],
      "metadata": {
        "colab": {
          "base_uri": "https://localhost:8080/"
        },
        "id": "o-3-mXM4PYMy",
        "outputId": "231ee09e-71c3-4219-abc3-a22a609825c7"
      },
      "execution_count": null,
      "outputs": [
        {
          "output_type": "stream",
          "name": "stdout",
          "text": [
            "sum of all prime no.s 24\n"
          ]
        }
      ]
    },
    {
      "cell_type": "markdown",
      "source": [
        "(xi) WAP to clear all the elements in L."
      ],
      "metadata": {
        "id": "fgZIo7_jTB1R"
      }
    },
    {
      "cell_type": "code",
      "source": [
        "L.clear()\n",
        "L"
      ],
      "metadata": {
        "colab": {
          "base_uri": "https://localhost:8080/"
        },
        "id": "6T86T4ehTF2J",
        "outputId": "a3d8ee06-8816-4070-8e44-e5e78caaa47d"
      },
      "execution_count": null,
      "outputs": [
        {
          "output_type": "execute_result",
          "data": {
            "text/plain": [
              "[]"
            ]
          },
          "metadata": {},
          "execution_count": 24
        }
      ]
    },
    {
      "cell_type": "markdown",
      "source": [
        "(xii) WAP to delete L."
      ],
      "metadata": {
        "id": "U2it13yuTqAL"
      }
    },
    {
      "cell_type": "code",
      "source": [
        "del(L)\n",
        "L"
      ],
      "metadata": {
        "colab": {
          "base_uri": "https://localhost:8080/",
          "height": 158
        },
        "id": "lQb_n8tHT9_o",
        "outputId": "60782a90-ec79-412b-da2d-b7b65ec7520b"
      },
      "execution_count": null,
      "outputs": [
        {
          "output_type": "error",
          "ename": "NameError",
          "evalue": "name 'L' is not defined",
          "traceback": [
            "\u001b[0;31m---------------------------------------------------------------------------\u001b[0m",
            "\u001b[0;31mNameError\u001b[0m                                 Traceback (most recent call last)",
            "\u001b[0;32m<ipython-input-25-75bddc1c19bf>\u001b[0m in \u001b[0;36m<cell line: 0>\u001b[0;34m()\u001b[0m\n\u001b[1;32m      1\u001b[0m \u001b[0;32mdel\u001b[0m\u001b[0;34m(\u001b[0m\u001b[0mL\u001b[0m\u001b[0;34m)\u001b[0m\u001b[0;34m\u001b[0m\u001b[0;34m\u001b[0m\u001b[0m\n\u001b[0;32m----> 2\u001b[0;31m \u001b[0mL\u001b[0m\u001b[0;34m\u001b[0m\u001b[0;34m\u001b[0m\u001b[0m\n\u001b[0m",
            "\u001b[0;31mNameError\u001b[0m: name 'L' is not defined"
          ]
        }
      ]
    },
    {
      "cell_type": "markdown",
      "source": [
        "Q2. D is a dictionary defined as D= {1:5.6, 2:7.8, 3:6.6, 4:8.7, 5:7.7}.\n",
        "(i) WAP to add new entry in D; key=8 and value is 8.8\n",
        "(ii) WAP to remove key=2.\n",
        "(iii) WAP to check weather 6 key is present in D.\n",
        "(iv) WAP to count the number of elements present in D.\n",
        "(v) WAP to add all the values present D.\n",
        "(vi) WAP to update the value of 3 to 7.1.\n",
        "(vii) WAP to clear the dictionary"
      ],
      "metadata": {
        "id": "tNGibQW_2Fpd"
      }
    },
    {
      "cell_type": "code",
      "source": [
        " D= {1:5.6, 2:7.8, 3:6.6, 4:8.7, 5:7.7}"
      ],
      "metadata": {
        "id": "bXpx42Ns2GtS"
      },
      "execution_count": null,
      "outputs": []
    },
    {
      "cell_type": "markdown",
      "source": [
        "(i) WAP to add new entry in D"
      ],
      "metadata": {
        "id": "YRHgfnal7vpQ"
      }
    },
    {
      "cell_type": "code",
      "source": [
        "D[6]=9.2\n",
        "D"
      ],
      "metadata": {
        "colab": {
          "base_uri": "https://localhost:8080/"
        },
        "id": "wvFbETG4-cf5",
        "outputId": "7bee8713-5808-4dc9-bab0-587428cd6d18"
      },
      "execution_count": null,
      "outputs": [
        {
          "output_type": "execute_result",
          "data": {
            "text/plain": [
              "{1: 5.6, 2: 7.8, 3: 6.6, 4: 8.7, 5: 7.7, 6: 9.2}"
            ]
          },
          "metadata": {},
          "execution_count": 28
        }
      ]
    },
    {
      "cell_type": "markdown",
      "source": [
        "(ii) WAP to remove key=2."
      ],
      "metadata": {
        "id": "eZA5uNAZ-fp4"
      }
    },
    {
      "cell_type": "code",
      "source": [
        "del D[2]\n",
        "D"
      ],
      "metadata": {
        "colab": {
          "base_uri": "https://localhost:8080/"
        },
        "id": "nBmNiDfF-lRm",
        "outputId": "cc649412-4ea2-4041-9f2f-ae64dd1a5a5e"
      },
      "execution_count": null,
      "outputs": [
        {
          "output_type": "execute_result",
          "data": {
            "text/plain": [
              "{1: 5.6, 3: 6.6, 4: 8.7, 5: 7.7, 6: 9.2}"
            ]
          },
          "metadata": {},
          "execution_count": 29
        }
      ]
    },
    {
      "cell_type": "markdown",
      "source": [
        "(iii) WAP to check weather 6 key is present in D"
      ],
      "metadata": {
        "id": "bAZmKMtQ-plS"
      }
    },
    {
      "cell_type": "markdown",
      "source": [
        " (iv) WAP to count the number of elements present in D"
      ],
      "metadata": {
        "id": "CSTYJgY0AEj0"
      }
    },
    {
      "cell_type": "code",
      "source": [
        "if(len(D)>6):\n",
        "  print(\"Dictionary have more no than 6\")\n",
        "elif(len(D)==6):\n",
        "  print(\"Dictionary have number equal to 6\")\n",
        "else:\n",
        "  print(\"Dictionary have  number less than 6\")"
      ],
      "metadata": {
        "colab": {
          "base_uri": "https://localhost:8080/"
        },
        "id": "GN0BmEuD-wgb",
        "outputId": "e026169f-948c-4e86-d78c-333b462eb77d"
      },
      "execution_count": null,
      "outputs": [
        {
          "output_type": "stream",
          "name": "stdout",
          "text": [
            "Dictionary have  number less than 6\n"
          ]
        }
      ]
    },
    {
      "cell_type": "code",
      "source": [
        "j=0\n",
        "for i in D:\n",
        "  j=j+1\n",
        "print(\"total no of elements in D\",j)"
      ],
      "metadata": {
        "colab": {
          "base_uri": "https://localhost:8080/"
        },
        "id": "RfRwUVImE7Ec",
        "outputId": "420c7ddd-db2b-402a-a5da-d49bf1421f0b"
      },
      "execution_count": null,
      "outputs": [
        {
          "output_type": "stream",
          "name": "stdout",
          "text": [
            "total no of elements in D 5\n"
          ]
        }
      ]
    },
    {
      "cell_type": "markdown",
      "source": [
        "(v) WAP to add all the values present D."
      ],
      "metadata": {
        "id": "_oTOR4e4_5o-"
      }
    },
    {
      "cell_type": "code",
      "source": [
        "sum(D.values())"
      ],
      "metadata": {
        "colab": {
          "base_uri": "https://localhost:8080/"
        },
        "id": "UxEyLiomFLxc",
        "outputId": "88f1818f-77d1-4ed3-c63d-6f9e8eed59f7"
      },
      "execution_count": null,
      "outputs": [
        {
          "output_type": "execute_result",
          "data": {
            "text/plain": [
              "37.8"
            ]
          },
          "metadata": {},
          "execution_count": 32
        }
      ]
    },
    {
      "cell_type": "markdown",
      "source": [
        "(vi) WAP to update the value of 3 to 7.1"
      ],
      "metadata": {
        "id": "O-m-TX5dFSc0"
      }
    },
    {
      "cell_type": "code",
      "source": [
        "D[3]=7.1\n",
        "D"
      ],
      "metadata": {
        "colab": {
          "base_uri": "https://localhost:8080/"
        },
        "id": "KqY1IZPqFV3c",
        "outputId": "3903c373-d8f5-4554-cca8-010620cf7760"
      },
      "execution_count": null,
      "outputs": [
        {
          "output_type": "execute_result",
          "data": {
            "text/plain": [
              "{1: 5.6, 3: 7.1, 4: 8.7, 5: 7.7, 6: 9.2}"
            ]
          },
          "metadata": {},
          "execution_count": 33
        }
      ]
    },
    {
      "cell_type": "markdown",
      "source": [
        "(vii) WAP to clear the dictionary"
      ],
      "metadata": {
        "id": "nbiCrq1dFZJ_"
      }
    },
    {
      "cell_type": "code",
      "source": [
        "D.clear()\n",
        "D"
      ],
      "metadata": {
        "colab": {
          "base_uri": "https://localhost:8080/"
        },
        "id": "SIVwRehkFb8w",
        "outputId": "fdde06f3-92a4-4b99-e7aa-16912259480c"
      },
      "execution_count": null,
      "outputs": [
        {
          "output_type": "execute_result",
          "data": {
            "text/plain": [
              "{}"
            ]
          },
          "metadata": {},
          "execution_count": 34
        }
      ]
    },
    {
      "cell_type": "markdown",
      "source": [
        "Q3. S1 is a set defined as S1= [10, 20, 30, 40, 50, 60].\n",
        " S2 is a set defined as S2= [40, 50, 60, 70, 80, 90].\n",
        "(i) WAP to add 55 and 66 in Set S1.\n",
        "(ii) WAP to remove 10 and 30 from Set S1.\n",
        "(iii) WAP to check whether 40 is present in S1.\n",
        "(iv) WAP to find the union between S1 and S2.\n",
        "(v) WAP to find the intersection between S1 and S2.\n",
        "(vi) WAP to find the S1 - S2."
      ],
      "metadata": {
        "id": "RNIT6WmYFhEN"
      }
    },
    {
      "cell_type": "markdown",
      "source": [],
      "metadata": {
        "id": "X-7VqS6nAGFJ"
      }
    },
    {
      "cell_type": "code",
      "source": [
        " S1= set([10, 20, 30, 40, 50, 60])\n",
        " S2= set([40, 50, 60, 70, 80, 90])"
      ],
      "metadata": {
        "id": "FVKF5cOjFlkh"
      },
      "execution_count": null,
      "outputs": []
    },
    {
      "cell_type": "markdown",
      "source": [
        "(i) WAP to add 55 and 66 in Set S1."
      ],
      "metadata": {
        "id": "UvgZtZHx7JdI"
      }
    },
    {
      "cell_type": "code",
      "source": [
        "S1.add(55)\n",
        "S1.add(66)\n",
        "S1"
      ],
      "metadata": {
        "colab": {
          "base_uri": "https://localhost:8080/"
        },
        "id": "yYWe3gDQ7HCI",
        "outputId": "905ed19d-c990-4774-8e98-081ea653f88a"
      },
      "execution_count": null,
      "outputs": [
        {
          "output_type": "execute_result",
          "data": {
            "text/plain": [
              "{10, 20, 30, 40, 50, 55, 60, 66}"
            ]
          },
          "metadata": {},
          "execution_count": 36
        }
      ]
    },
    {
      "cell_type": "markdown",
      "source": [
        "(ii) WAP to remove 10 and 30 from Set S1."
      ],
      "metadata": {
        "id": "MbdpssoU8Ms5"
      }
    },
    {
      "cell_type": "code",
      "source": [
        "S1.remove(10)\n",
        "S1.remove(30)"
      ],
      "metadata": {
        "id": "Mkpb3HPu8Qd5"
      },
      "execution_count": null,
      "outputs": []
    },
    {
      "cell_type": "markdown",
      "source": [
        "(iii) WAP to check whether 40 is present in S1"
      ],
      "metadata": {
        "id": "0VjN-4mk8ekd"
      }
    },
    {
      "cell_type": "code",
      "source": [
        "try:\n",
        "  S1.remove(40)\n",
        "  print(\"40 is presnt\")\n",
        "except:\n",
        "  print(\"40 not present\")"
      ],
      "metadata": {
        "colab": {
          "base_uri": "https://localhost:8080/"
        },
        "id": "zPpXNj_h8hoc",
        "outputId": "1070de3a-547f-474a-846a-50533cc96ac2"
      },
      "execution_count": null,
      "outputs": [
        {
          "output_type": "stream",
          "name": "stdout",
          "text": [
            "40 is presnt\n"
          ]
        }
      ]
    },
    {
      "cell_type": "code",
      "source": [
        "if 40 in S1:\n",
        "  print(\"40 is present\")\n",
        "else:\n",
        "  print(\"40 not present\")"
      ],
      "metadata": {
        "colab": {
          "base_uri": "https://localhost:8080/"
        },
        "id": "NraY3FJb_MZx",
        "outputId": "dc6b3a74-344d-45ad-898a-4a4d6d04d2e1"
      },
      "execution_count": null,
      "outputs": [
        {
          "output_type": "stream",
          "name": "stdout",
          "text": [
            "40 not present\n"
          ]
        }
      ]
    },
    {
      "cell_type": "markdown",
      "source": [
        "(iv) WAP to find the union between S1 and S2."
      ],
      "metadata": {
        "id": "9gAsvcql_bml"
      }
    },
    {
      "cell_type": "code",
      "source": [
        "print(S1.union(S2))"
      ],
      "metadata": {
        "colab": {
          "base_uri": "https://localhost:8080/"
        },
        "id": "vKc9I2m9_can",
        "outputId": "9e6d6a46-b489-4dd2-b5a9-a4f5bb5bc476"
      },
      "execution_count": null,
      "outputs": [
        {
          "output_type": "stream",
          "name": "stdout",
          "text": [
            "{66, 70, 40, 80, 50, 20, 55, 90, 60}\n"
          ]
        }
      ]
    },
    {
      "cell_type": "markdown",
      "source": [
        "(v) WAP to find the intersection between S1 and S2."
      ],
      "metadata": {
        "id": "rPlgnN_S_hNk"
      }
    },
    {
      "cell_type": "code",
      "source": [
        "print(S1.difference(S2))"
      ],
      "metadata": {
        "colab": {
          "base_uri": "https://localhost:8080/"
        },
        "id": "xpURrG_v_kx_",
        "outputId": "732c6be6-f250-40e9-b505-478a2dec2559"
      },
      "execution_count": null,
      "outputs": [
        {
          "output_type": "stream",
          "name": "stdout",
          "text": [
            "{66, 20, 55}\n"
          ]
        }
      ]
    },
    {
      "cell_type": "markdown",
      "source": [
        "Q4. Write the following program.\n",
        "(i) WAP to print 100 random strings whose length between 6 and 8.\n",
        "(ii) WAP to print all prime numbers between 600 and 800.\n",
        "(iii) WAP to print all numbers between 100 and 1000 that are divisible by 7 and 9."
      ],
      "metadata": {
        "id": "b-oBXEOAADo-"
      }
    },
    {
      "cell_type": "markdown",
      "source": [
        " (i) WAP to print 100 random strings whose length between 6 and 8."
      ],
      "metadata": {
        "id": "flOGOIc7UXeP"
      }
    },
    {
      "cell_type": "code",
      "source": [
        "import string as s\n",
        "import random as r\n",
        "string1=s.ascii_letters\n",
        "L=[6,7,8]\n",
        "for i in range(0,100):\n",
        "  x=r.sample(L,1)\n",
        "  y=x[0]\n",
        "  string2=r.sample(string1,y)\n",
        "  string3=\"\".join(string2)\n",
        "  print(string3)"
      ],
      "metadata": {
        "colab": {
          "base_uri": "https://localhost:8080/"
        },
        "id": "Wd6qvVyKUV7o",
        "outputId": "0c464d16-1ee0-414f-f7e3-44d2b1fdff86"
      },
      "execution_count": null,
      "outputs": [
        {
          "output_type": "stream",
          "name": "stdout",
          "text": [
            "cAqkSB\n",
            "MYSclKDU\n",
            "flKkEU\n",
            "VxyZbjlh\n",
            "gbiJLHU\n",
            "LrjdUy\n",
            "tDaeXO\n",
            "QEqFrO\n",
            "nIOKjlv\n",
            "JjsyKqVi\n",
            "VRfidWCa\n",
            "huKebfJp\n",
            "dcyMIhD\n",
            "gxsZbhKB\n",
            "kwuoWAJ\n",
            "jKNRmF\n",
            "lEmdpBgQ\n",
            "Vibahd\n",
            "hNSTCHEK\n",
            "hdiTEOCM\n",
            "ZqdnVr\n",
            "epPlExO\n",
            "vDxaoSYi\n",
            "GTuixRtw\n",
            "eExDTy\n",
            "ahtXlY\n",
            "CsqJzmE\n",
            "fOentFc\n",
            "zLeRumjH\n",
            "VWjcMn\n",
            "qkIjDKNS\n",
            "eqDsHK\n",
            "ZpIGVr\n",
            "jcXxkgoD\n",
            "glxmXC\n",
            "UxPjYKeC\n",
            "XwCIRxD\n",
            "dUHSIV\n",
            "lRYcESh\n",
            "NyTqIwsz\n",
            "jsptVlbx\n",
            "euVziRSc\n",
            "GHMXVxtm\n",
            "FNsCJA\n",
            "EaNPKMQ\n",
            "WUdHgVv\n",
            "rcUjEG\n",
            "rqMkXI\n",
            "qjzGfonh\n",
            "oPCZgE\n",
            "pvmSjHk\n",
            "eVWBlaIC\n",
            "QaVmni\n",
            "awycvMuW\n",
            "vBSZRIJf\n",
            "UOsruG\n",
            "rkjVBMq\n",
            "vtMiYw\n",
            "ypxmrP\n",
            "dFDNEv\n",
            "uSfAOhR\n",
            "lsZEPfuI\n",
            "gfqcLW\n",
            "hHOfXFaV\n",
            "SFVDWen\n",
            "MmckLWxz\n",
            "lcHkuY\n",
            "MUAdXHJ\n",
            "uACjiYO\n",
            "BasIlOgt\n",
            "JvtnmzLp\n",
            "HyMdFEA\n",
            "pkrblit\n",
            "CHfmPiZ\n",
            "vECmODp\n",
            "MnLHgmUr\n",
            "cAnsLoO\n",
            "cLFyaCo\n",
            "lAdvrC\n",
            "aSkUrWCc\n",
            "nuqZHQ\n",
            "ecTZhv\n",
            "DOSZTwn\n",
            "RxOHhjzZ\n",
            "LqpaigY\n",
            "hRBXqICm\n",
            "CQmoJW\n",
            "aiDugSsp\n",
            "HwujON\n",
            "lCqnhN\n",
            "BFmDjXPo\n",
            "xcaKgm\n",
            "krGlHQS\n",
            "HnzdEmGl\n",
            "aZYUqObp\n",
            "HpkcOQFV\n",
            "OkSTwo\n",
            "OvbqXVWK\n",
            "AbfWXaC\n",
            "VasdLex\n"
          ]
        }
      ]
    },
    {
      "cell_type": "markdown",
      "source": [
        "(ii) WAP to print all prime numbers between 600 and 800."
      ],
      "metadata": {
        "id": "_hUeh5IIZM6m"
      }
    },
    {
      "cell_type": "code",
      "source": [
        "def primeno(n):\n",
        "  for i in range(2,n//2+1):\n",
        "    if(n%i==0):\n",
        "      return 1\n",
        "  return 0\n",
        "for i in range(601,800):\n",
        "  if(primeno(i)==0):\n",
        "    print(f\"{i} is a prime no\")\n"
      ],
      "metadata": {
        "id": "wp7MGh9WZS8H",
        "colab": {
          "base_uri": "https://localhost:8080/"
        },
        "outputId": "b83b7696-1b3c-48d6-f74b-2ac5633cdde3"
      },
      "execution_count": null,
      "outputs": [
        {
          "output_type": "stream",
          "name": "stdout",
          "text": [
            "601 is a prime no\n",
            "607 is a prime no\n",
            "613 is a prime no\n",
            "617 is a prime no\n",
            "619 is a prime no\n",
            "631 is a prime no\n",
            "641 is a prime no\n",
            "643 is a prime no\n",
            "647 is a prime no\n",
            "653 is a prime no\n",
            "659 is a prime no\n",
            "661 is a prime no\n",
            "673 is a prime no\n",
            "677 is a prime no\n",
            "683 is a prime no\n",
            "691 is a prime no\n",
            "701 is a prime no\n",
            "709 is a prime no\n",
            "719 is a prime no\n",
            "727 is a prime no\n",
            "733 is a prime no\n",
            "739 is a prime no\n",
            "743 is a prime no\n",
            "751 is a prime no\n",
            "757 is a prime no\n",
            "761 is a prime no\n",
            "769 is a prime no\n",
            "773 is a prime no\n",
            "787 is a prime no\n",
            "797 is a prime no\n"
          ]
        }
      ]
    },
    {
      "cell_type": "markdown",
      "source": [
        " (iii) WAP to print all numbers between 100 and 1000 that are divisible by 7 and 9"
      ],
      "metadata": {
        "id": "VTyTs0KmDEvG"
      }
    },
    {
      "cell_type": "code",
      "source": [
        "def div7_9(n):\n",
        "  if(n%7==0 & n%9==0):\n",
        "    return 1\n",
        "for i in range(101,1000):\n",
        "  if(div7_9(i)==1):\n",
        "    print(f\"{i} is divisible by both 7 and 9\")"
      ],
      "metadata": {
        "colab": {
          "base_uri": "https://localhost:8080/"
        },
        "id": "MbgD_K5eDgPt",
        "outputId": "2d137f09-6a4f-41c4-d818-573239ff04d0"
      },
      "execution_count": null,
      "outputs": [
        {
          "output_type": "stream",
          "name": "stdout",
          "text": [
            "105 is divisible by both 7 and 9\n",
            "112 is divisible by both 7 and 9\n",
            "119 is divisible by both 7 and 9\n",
            "126 is divisible by both 7 and 9\n",
            "133 is divisible by both 7 and 9\n",
            "140 is divisible by both 7 and 9\n",
            "147 is divisible by both 7 and 9\n",
            "154 is divisible by both 7 and 9\n",
            "161 is divisible by both 7 and 9\n",
            "168 is divisible by both 7 and 9\n",
            "175 is divisible by both 7 and 9\n",
            "182 is divisible by both 7 and 9\n",
            "189 is divisible by both 7 and 9\n",
            "196 is divisible by both 7 and 9\n",
            "203 is divisible by both 7 and 9\n",
            "210 is divisible by both 7 and 9\n",
            "217 is divisible by both 7 and 9\n",
            "224 is divisible by both 7 and 9\n",
            "231 is divisible by both 7 and 9\n",
            "238 is divisible by both 7 and 9\n",
            "245 is divisible by both 7 and 9\n",
            "252 is divisible by both 7 and 9\n",
            "259 is divisible by both 7 and 9\n",
            "266 is divisible by both 7 and 9\n",
            "273 is divisible by both 7 and 9\n",
            "280 is divisible by both 7 and 9\n",
            "287 is divisible by both 7 and 9\n",
            "294 is divisible by both 7 and 9\n",
            "301 is divisible by both 7 and 9\n",
            "308 is divisible by both 7 and 9\n",
            "315 is divisible by both 7 and 9\n",
            "322 is divisible by both 7 and 9\n",
            "329 is divisible by both 7 and 9\n",
            "336 is divisible by both 7 and 9\n",
            "343 is divisible by both 7 and 9\n",
            "350 is divisible by both 7 and 9\n",
            "357 is divisible by both 7 and 9\n",
            "364 is divisible by both 7 and 9\n",
            "371 is divisible by both 7 and 9\n",
            "378 is divisible by both 7 and 9\n",
            "385 is divisible by both 7 and 9\n",
            "392 is divisible by both 7 and 9\n",
            "399 is divisible by both 7 and 9\n",
            "406 is divisible by both 7 and 9\n",
            "413 is divisible by both 7 and 9\n",
            "420 is divisible by both 7 and 9\n",
            "427 is divisible by both 7 and 9\n",
            "434 is divisible by both 7 and 9\n",
            "441 is divisible by both 7 and 9\n",
            "448 is divisible by both 7 and 9\n",
            "455 is divisible by both 7 and 9\n",
            "462 is divisible by both 7 and 9\n",
            "469 is divisible by both 7 and 9\n",
            "476 is divisible by both 7 and 9\n",
            "483 is divisible by both 7 and 9\n",
            "490 is divisible by both 7 and 9\n",
            "497 is divisible by both 7 and 9\n",
            "504 is divisible by both 7 and 9\n",
            "511 is divisible by both 7 and 9\n",
            "518 is divisible by both 7 and 9\n",
            "525 is divisible by both 7 and 9\n",
            "532 is divisible by both 7 and 9\n",
            "539 is divisible by both 7 and 9\n",
            "546 is divisible by both 7 and 9\n",
            "553 is divisible by both 7 and 9\n",
            "560 is divisible by both 7 and 9\n",
            "567 is divisible by both 7 and 9\n",
            "574 is divisible by both 7 and 9\n",
            "581 is divisible by both 7 and 9\n",
            "588 is divisible by both 7 and 9\n",
            "595 is divisible by both 7 and 9\n",
            "602 is divisible by both 7 and 9\n",
            "609 is divisible by both 7 and 9\n",
            "616 is divisible by both 7 and 9\n",
            "623 is divisible by both 7 and 9\n",
            "630 is divisible by both 7 and 9\n",
            "637 is divisible by both 7 and 9\n",
            "644 is divisible by both 7 and 9\n",
            "651 is divisible by both 7 and 9\n",
            "658 is divisible by both 7 and 9\n",
            "665 is divisible by both 7 and 9\n",
            "672 is divisible by both 7 and 9\n",
            "679 is divisible by both 7 and 9\n",
            "686 is divisible by both 7 and 9\n",
            "693 is divisible by both 7 and 9\n",
            "700 is divisible by both 7 and 9\n",
            "707 is divisible by both 7 and 9\n",
            "714 is divisible by both 7 and 9\n",
            "721 is divisible by both 7 and 9\n",
            "728 is divisible by both 7 and 9\n",
            "735 is divisible by both 7 and 9\n",
            "742 is divisible by both 7 and 9\n",
            "749 is divisible by both 7 and 9\n",
            "756 is divisible by both 7 and 9\n",
            "763 is divisible by both 7 and 9\n",
            "770 is divisible by both 7 and 9\n",
            "777 is divisible by both 7 and 9\n",
            "784 is divisible by both 7 and 9\n",
            "791 is divisible by both 7 and 9\n",
            "798 is divisible by both 7 and 9\n",
            "805 is divisible by both 7 and 9\n",
            "812 is divisible by both 7 and 9\n",
            "819 is divisible by both 7 and 9\n",
            "826 is divisible by both 7 and 9\n",
            "833 is divisible by both 7 and 9\n",
            "840 is divisible by both 7 and 9\n",
            "847 is divisible by both 7 and 9\n",
            "854 is divisible by both 7 and 9\n",
            "861 is divisible by both 7 and 9\n",
            "868 is divisible by both 7 and 9\n",
            "875 is divisible by both 7 and 9\n",
            "882 is divisible by both 7 and 9\n",
            "889 is divisible by both 7 and 9\n",
            "896 is divisible by both 7 and 9\n",
            "903 is divisible by both 7 and 9\n",
            "910 is divisible by both 7 and 9\n",
            "917 is divisible by both 7 and 9\n",
            "924 is divisible by both 7 and 9\n",
            "931 is divisible by both 7 and 9\n",
            "938 is divisible by both 7 and 9\n",
            "945 is divisible by both 7 and 9\n",
            "952 is divisible by both 7 and 9\n",
            "959 is divisible by both 7 and 9\n",
            "966 is divisible by both 7 and 9\n",
            "973 is divisible by both 7 and 9\n",
            "980 is divisible by both 7 and 9\n",
            "987 is divisible by both 7 and 9\n",
            "994 is divisible by both 7 and 9\n"
          ]
        }
      ]
    },
    {
      "cell_type": "markdown",
      "source": [
        "Q5. WAP to create two lists of 10 random numbers between 10 and 30; Find\n",
        "(i) Common numbers in the two lists\n",
        "(ii) Unique numbers in both the list\n",
        "(iii) Minimum in both the list\n",
        "(iv) Maximum in both the list\n",
        "(v) Sum of both the lists"
      ],
      "metadata": {
        "id": "XD5n0my3E9uo"
      }
    },
    {
      "cell_type": "code",
      "source": [
        "import random as r\n",
        "L1=r.sample(range(10,30),10)\n",
        "L2=r.sample(range(10,30),10)\n",
        "print(L1)\n",
        "print(L2)"
      ],
      "metadata": {
        "colab": {
          "base_uri": "https://localhost:8080/"
        },
        "id": "NUc_3SpuFAe1",
        "outputId": "8769fb40-e636-4e21-da1a-16d5c18ee67d"
      },
      "execution_count": null,
      "outputs": [
        {
          "output_type": "stream",
          "name": "stdout",
          "text": [
            "[19, 24, 21, 14, 29, 11, 25, 12, 28, 18]\n",
            "[14, 10, 19, 26, 29, 15, 23, 25, 20, 16]\n"
          ]
        }
      ]
    },
    {
      "cell_type": "markdown",
      "source": [
        "(i) Common numbers in the two lists"
      ],
      "metadata": {
        "id": "g1AQvgbdHLRs"
      }
    },
    {
      "cell_type": "code",
      "source": [
        "L3=[]\n",
        "for i in L1:\n",
        "  for j in L2:\n",
        "    if(i==j):\n",
        "      L3.append(i)\n",
        "      print(L3,\"is list of common no.s\")"
      ],
      "metadata": {
        "colab": {
          "base_uri": "https://localhost:8080/"
        },
        "id": "pMo8sIOsHKfV",
        "outputId": "f5dc736b-1a68-4571-8a14-47a62c6c53d8"
      },
      "execution_count": null,
      "outputs": [
        {
          "output_type": "stream",
          "name": "stdout",
          "text": [
            "[19] is list of common no.s\n",
            "[19, 14] is list of common no.s\n",
            "[19, 14, 29] is list of common no.s\n",
            "[19, 14, 29, 25] is list of common no.s\n"
          ]
        }
      ]
    },
    {
      "cell_type": "markdown",
      "source": [
        "(ii) Unique numbers in both the list"
      ],
      "metadata": {
        "id": "qKqpvsvGJdq3"
      }
    },
    {
      "cell_type": "code",
      "source": [],
      "metadata": {
        "id": "cM5rsaOCJhFI"
      },
      "execution_count": null,
      "outputs": []
    },
    {
      "cell_type": "markdown",
      "source": [
        "(iii) Minimum in both the list"
      ],
      "metadata": {
        "id": "ACQEBzSXLEBp"
      }
    },
    {
      "cell_type": "code",
      "source": [
        "L4=L1+L2\n",
        "min(L4)"
      ],
      "metadata": {
        "colab": {
          "base_uri": "https://localhost:8080/"
        },
        "id": "dwXhyFKFLIgO",
        "outputId": "00ffba37-de25-4139-d057-60272b785c11"
      },
      "execution_count": null,
      "outputs": [
        {
          "output_type": "execute_result",
          "data": {
            "text/plain": [
              "10"
            ]
          },
          "metadata": {},
          "execution_count": 49
        }
      ]
    },
    {
      "cell_type": "markdown",
      "source": [
        "(iv) Maximum in both the list"
      ],
      "metadata": {
        "id": "nPMI_3eTLWnY"
      }
    },
    {
      "cell_type": "code",
      "source": [
        "max(L4)"
      ],
      "metadata": {
        "colab": {
          "base_uri": "https://localhost:8080/"
        },
        "id": "Bm5bz15VLXMC",
        "outputId": "24082eb5-6905-4d90-9e36-3bc68abbc607"
      },
      "execution_count": null,
      "outputs": [
        {
          "output_type": "execute_result",
          "data": {
            "text/plain": [
              "29"
            ]
          },
          "metadata": {},
          "execution_count": 50
        }
      ]
    },
    {
      "cell_type": "markdown",
      "source": [
        "(v) Sum of both the lists"
      ],
      "metadata": {
        "id": "jmxJ_NSGOxU9"
      }
    },
    {
      "cell_type": "code",
      "source": [
        "sum(L4)"
      ],
      "metadata": {
        "colab": {
          "base_uri": "https://localhost:8080/"
        },
        "id": "bLTBEfs2O0Uq",
        "outputId": "cbf127dd-2c28-484b-9b58-c71891a73f05"
      },
      "execution_count": null,
      "outputs": [
        {
          "output_type": "execute_result",
          "data": {
            "text/plain": [
              "398"
            ]
          },
          "metadata": {},
          "execution_count": 51
        }
      ]
    },
    {
      "cell_type": "markdown",
      "source": [
        "Q6. WAP to create a list of 100 random numbers between 100 and 900. Count and print the:\n",
        "(i) All odd numbers\n",
        "(ii) All even numbers\n",
        "(iii) All prime numbers"
      ],
      "metadata": {
        "id": "XrK8ZvyHO1qt"
      }
    },
    {
      "cell_type": "code",
      "source": [
        "import random as r\n",
        "L=r.sample(range(101,900),100)"
      ],
      "metadata": {
        "id": "5r1zXtDHPEu5"
      },
      "execution_count": null,
      "outputs": []
    },
    {
      "cell_type": "markdown",
      "source": [
        " (i) All odd numbers"
      ],
      "metadata": {
        "id": "lrsY7XKMO6Mi"
      }
    },
    {
      "cell_type": "code",
      "source": [
        "def odd(n):\n",
        "  if n%2==0:\n",
        "    return 1\n",
        "  return 0\n",
        "L1=[]\n",
        "for i in L:\n",
        "  if(odd(i)==0):\n",
        "    L1.append(i)\n",
        "L1"
      ],
      "metadata": {
        "colab": {
          "base_uri": "https://localhost:8080/"
        },
        "id": "PYp0JVhyPB56",
        "outputId": "0f16848e-4636-408f-d540-f19207b0bf39"
      },
      "execution_count": null,
      "outputs": [
        {
          "output_type": "execute_result",
          "data": {
            "text/plain": [
              "[189,\n",
              " 311,\n",
              " 129,\n",
              " 759,\n",
              " 335,\n",
              " 457,\n",
              " 307,\n",
              " 297,\n",
              " 487,\n",
              " 367,\n",
              " 419,\n",
              " 115,\n",
              " 409,\n",
              " 231,\n",
              " 683,\n",
              " 619,\n",
              " 241,\n",
              " 355,\n",
              " 785,\n",
              " 511,\n",
              " 685,\n",
              " 437,\n",
              " 659,\n",
              " 467,\n",
              " 185,\n",
              " 523,\n",
              " 679,\n",
              " 515,\n",
              " 793,\n",
              " 553,\n",
              " 801,\n",
              " 581,\n",
              " 427,\n",
              " 583,\n",
              " 449,\n",
              " 153,\n",
              " 493,\n",
              " 639,\n",
              " 243,\n",
              " 567,\n",
              " 681,\n",
              " 645,\n",
              " 603,\n",
              " 863,\n",
              " 379,\n",
              " 401,\n",
              " 233,\n",
              " 389,\n",
              " 411,\n",
              " 795,\n",
              " 331,\n",
              " 775,\n",
              " 421,\n",
              " 733,\n",
              " 875,\n",
              " 617,\n",
              " 237]"
            ]
          },
          "metadata": {},
          "execution_count": 56
        }
      ]
    },
    {
      "cell_type": "markdown",
      "source": [
        "(ii) All even numbers"
      ],
      "metadata": {
        "id": "VNeMqmXLQgso"
      }
    },
    {
      "cell_type": "code",
      "source": [
        "L1=[]\n",
        "def even(n):\n",
        "  if n%2==0:\n",
        "    return 1\n",
        "  return 0\n",
        "for i in range(101,900):\n",
        "  if(even(i)==1):\n",
        "    L1.append(i)\n",
        "L1"
      ],
      "metadata": {
        "colab": {
          "base_uri": "https://localhost:8080/"
        },
        "id": "yQ_RsWSpQwvR",
        "outputId": "d8fa144d-eb5d-4af2-e5ef-b2bcc8f82535"
      },
      "execution_count": null,
      "outputs": [
        {
          "output_type": "execute_result",
          "data": {
            "text/plain": [
              "[102,\n",
              " 104,\n",
              " 106,\n",
              " 108,\n",
              " 110,\n",
              " 112,\n",
              " 114,\n",
              " 116,\n",
              " 118,\n",
              " 120,\n",
              " 122,\n",
              " 124,\n",
              " 126,\n",
              " 128,\n",
              " 130,\n",
              " 132,\n",
              " 134,\n",
              " 136,\n",
              " 138,\n",
              " 140,\n",
              " 142,\n",
              " 144,\n",
              " 146,\n",
              " 148,\n",
              " 150,\n",
              " 152,\n",
              " 154,\n",
              " 156,\n",
              " 158,\n",
              " 160,\n",
              " 162,\n",
              " 164,\n",
              " 166,\n",
              " 168,\n",
              " 170,\n",
              " 172,\n",
              " 174,\n",
              " 176,\n",
              " 178,\n",
              " 180,\n",
              " 182,\n",
              " 184,\n",
              " 186,\n",
              " 188,\n",
              " 190,\n",
              " 192,\n",
              " 194,\n",
              " 196,\n",
              " 198,\n",
              " 200,\n",
              " 202,\n",
              " 204,\n",
              " 206,\n",
              " 208,\n",
              " 210,\n",
              " 212,\n",
              " 214,\n",
              " 216,\n",
              " 218,\n",
              " 220,\n",
              " 222,\n",
              " 224,\n",
              " 226,\n",
              " 228,\n",
              " 230,\n",
              " 232,\n",
              " 234,\n",
              " 236,\n",
              " 238,\n",
              " 240,\n",
              " 242,\n",
              " 244,\n",
              " 246,\n",
              " 248,\n",
              " 250,\n",
              " 252,\n",
              " 254,\n",
              " 256,\n",
              " 258,\n",
              " 260,\n",
              " 262,\n",
              " 264,\n",
              " 266,\n",
              " 268,\n",
              " 270,\n",
              " 272,\n",
              " 274,\n",
              " 276,\n",
              " 278,\n",
              " 280,\n",
              " 282,\n",
              " 284,\n",
              " 286,\n",
              " 288,\n",
              " 290,\n",
              " 292,\n",
              " 294,\n",
              " 296,\n",
              " 298,\n",
              " 300,\n",
              " 302,\n",
              " 304,\n",
              " 306,\n",
              " 308,\n",
              " 310,\n",
              " 312,\n",
              " 314,\n",
              " 316,\n",
              " 318,\n",
              " 320,\n",
              " 322,\n",
              " 324,\n",
              " 326,\n",
              " 328,\n",
              " 330,\n",
              " 332,\n",
              " 334,\n",
              " 336,\n",
              " 338,\n",
              " 340,\n",
              " 342,\n",
              " 344,\n",
              " 346,\n",
              " 348,\n",
              " 350,\n",
              " 352,\n",
              " 354,\n",
              " 356,\n",
              " 358,\n",
              " 360,\n",
              " 362,\n",
              " 364,\n",
              " 366,\n",
              " 368,\n",
              " 370,\n",
              " 372,\n",
              " 374,\n",
              " 376,\n",
              " 378,\n",
              " 380,\n",
              " 382,\n",
              " 384,\n",
              " 386,\n",
              " 388,\n",
              " 390,\n",
              " 392,\n",
              " 394,\n",
              " 396,\n",
              " 398,\n",
              " 400,\n",
              " 402,\n",
              " 404,\n",
              " 406,\n",
              " 408,\n",
              " 410,\n",
              " 412,\n",
              " 414,\n",
              " 416,\n",
              " 418,\n",
              " 420,\n",
              " 422,\n",
              " 424,\n",
              " 426,\n",
              " 428,\n",
              " 430,\n",
              " 432,\n",
              " 434,\n",
              " 436,\n",
              " 438,\n",
              " 440,\n",
              " 442,\n",
              " 444,\n",
              " 446,\n",
              " 448,\n",
              " 450,\n",
              " 452,\n",
              " 454,\n",
              " 456,\n",
              " 458,\n",
              " 460,\n",
              " 462,\n",
              " 464,\n",
              " 466,\n",
              " 468,\n",
              " 470,\n",
              " 472,\n",
              " 474,\n",
              " 476,\n",
              " 478,\n",
              " 480,\n",
              " 482,\n",
              " 484,\n",
              " 486,\n",
              " 488,\n",
              " 490,\n",
              " 492,\n",
              " 494,\n",
              " 496,\n",
              " 498,\n",
              " 500,\n",
              " 502,\n",
              " 504,\n",
              " 506,\n",
              " 508,\n",
              " 510,\n",
              " 512,\n",
              " 514,\n",
              " 516,\n",
              " 518,\n",
              " 520,\n",
              " 522,\n",
              " 524,\n",
              " 526,\n",
              " 528,\n",
              " 530,\n",
              " 532,\n",
              " 534,\n",
              " 536,\n",
              " 538,\n",
              " 540,\n",
              " 542,\n",
              " 544,\n",
              " 546,\n",
              " 548,\n",
              " 550,\n",
              " 552,\n",
              " 554,\n",
              " 556,\n",
              " 558,\n",
              " 560,\n",
              " 562,\n",
              " 564,\n",
              " 566,\n",
              " 568,\n",
              " 570,\n",
              " 572,\n",
              " 574,\n",
              " 576,\n",
              " 578,\n",
              " 580,\n",
              " 582,\n",
              " 584,\n",
              " 586,\n",
              " 588,\n",
              " 590,\n",
              " 592,\n",
              " 594,\n",
              " 596,\n",
              " 598,\n",
              " 600,\n",
              " 602,\n",
              " 604,\n",
              " 606,\n",
              " 608,\n",
              " 610,\n",
              " 612,\n",
              " 614,\n",
              " 616,\n",
              " 618,\n",
              " 620,\n",
              " 622,\n",
              " 624,\n",
              " 626,\n",
              " 628,\n",
              " 630,\n",
              " 632,\n",
              " 634,\n",
              " 636,\n",
              " 638,\n",
              " 640,\n",
              " 642,\n",
              " 644,\n",
              " 646,\n",
              " 648,\n",
              " 650,\n",
              " 652,\n",
              " 654,\n",
              " 656,\n",
              " 658,\n",
              " 660,\n",
              " 662,\n",
              " 664,\n",
              " 666,\n",
              " 668,\n",
              " 670,\n",
              " 672,\n",
              " 674,\n",
              " 676,\n",
              " 678,\n",
              " 680,\n",
              " 682,\n",
              " 684,\n",
              " 686,\n",
              " 688,\n",
              " 690,\n",
              " 692,\n",
              " 694,\n",
              " 696,\n",
              " 698,\n",
              " 700,\n",
              " 702,\n",
              " 704,\n",
              " 706,\n",
              " 708,\n",
              " 710,\n",
              " 712,\n",
              " 714,\n",
              " 716,\n",
              " 718,\n",
              " 720,\n",
              " 722,\n",
              " 724,\n",
              " 726,\n",
              " 728,\n",
              " 730,\n",
              " 732,\n",
              " 734,\n",
              " 736,\n",
              " 738,\n",
              " 740,\n",
              " 742,\n",
              " 744,\n",
              " 746,\n",
              " 748,\n",
              " 750,\n",
              " 752,\n",
              " 754,\n",
              " 756,\n",
              " 758,\n",
              " 760,\n",
              " 762,\n",
              " 764,\n",
              " 766,\n",
              " 768,\n",
              " 770,\n",
              " 772,\n",
              " 774,\n",
              " 776,\n",
              " 778,\n",
              " 780,\n",
              " 782,\n",
              " 784,\n",
              " 786,\n",
              " 788,\n",
              " 790,\n",
              " 792,\n",
              " 794,\n",
              " 796,\n",
              " 798,\n",
              " 800,\n",
              " 802,\n",
              " 804,\n",
              " 806,\n",
              " 808,\n",
              " 810,\n",
              " 812,\n",
              " 814,\n",
              " 816,\n",
              " 818,\n",
              " 820,\n",
              " 822,\n",
              " 824,\n",
              " 826,\n",
              " 828,\n",
              " 830,\n",
              " 832,\n",
              " 834,\n",
              " 836,\n",
              " 838,\n",
              " 840,\n",
              " 842,\n",
              " 844,\n",
              " 846,\n",
              " 848,\n",
              " 850,\n",
              " 852,\n",
              " 854,\n",
              " 856,\n",
              " 858,\n",
              " 860,\n",
              " 862,\n",
              " 864,\n",
              " 866,\n",
              " 868,\n",
              " 870,\n",
              " 872,\n",
              " 874,\n",
              " 876,\n",
              " 878,\n",
              " 880,\n",
              " 882,\n",
              " 884,\n",
              " 886,\n",
              " 888,\n",
              " 890,\n",
              " 892,\n",
              " 894,\n",
              " 896,\n",
              " 898]"
            ]
          },
          "metadata": {},
          "execution_count": 58
        }
      ]
    },
    {
      "cell_type": "markdown",
      "source": [
        "(iii) All prime numbers"
      ],
      "metadata": {
        "id": "q7KLXeEXROuV"
      }
    },
    {
      "cell_type": "code",
      "source": [
        "L1=[]\n",
        "def primeno(n):\n",
        "  for i in range(2,n//2+1):\n",
        "    if(n%i==0):\n",
        "      return 1\n",
        "  return 0\n",
        "for i in L:\n",
        "  if(primeno(i)==0):\n",
        "    L1.append(i)\n",
        "L1\n"
      ],
      "metadata": {
        "colab": {
          "base_uri": "https://localhost:8080/"
        },
        "id": "Nn6ZcHwWRUqB",
        "outputId": "9fa1d4ba-f7cd-410e-fe2f-cf943076975e"
      },
      "execution_count": null,
      "outputs": [
        {
          "output_type": "execute_result",
          "data": {
            "text/plain": [
              "[311,\n",
              " 457,\n",
              " 307,\n",
              " 487,\n",
              " 367,\n",
              " 419,\n",
              " 409,\n",
              " 683,\n",
              " 619,\n",
              " 241,\n",
              " 659,\n",
              " 467,\n",
              " 523,\n",
              " 449,\n",
              " 863,\n",
              " 379,\n",
              " 401,\n",
              " 233,\n",
              " 389,\n",
              " 331,\n",
              " 421,\n",
              " 733,\n",
              " 617]"
            ]
          },
          "metadata": {},
          "execution_count": 59
        }
      ]
    },
    {
      "cell_type": "markdown",
      "source": [
        "Q7. D is a dictionary defined as D={1:\"One\",2:\"Two\",3:\"Three\",4:\"Four\", 5:\"Five\"}.\n",
        " WAP to read all the keys and values from dictionary and write to the file in the given below format.\n",
        "Key1, Value1\n",
        "Key2, Value2\n",
        "Key3, Value3\n"
      ],
      "metadata": {
        "id": "678YnheCUD2Q"
      }
    },
    {
      "cell_type": "code",
      "source": [
        "D={1:\"One\",2:\"Two\",3:\"Three\",4:\"Four\", 5:\"Five\"}"
      ],
      "metadata": {
        "id": "R5_qgGPIVr-a"
      },
      "execution_count": null,
      "outputs": []
    },
    {
      "cell_type": "code",
      "source": [
        "x=list(D.keys())\n",
        "x\n",
        "y=list(D.values())\n",
        "y\n",
        "fp=open(\"file1.txt\",\"w\")\n",
        "for i in x:\n",
        "  fp.write(f\"{i},{D[i]} \\n\")\n",
        "fp.close()\n"
      ],
      "metadata": {
        "id": "wuPYP939UVXw"
      },
      "execution_count": null,
      "outputs": []
    },
    {
      "cell_type": "markdown",
      "source": [
        "Q8. L is a list defined as L={\"One\",\"Two\",\"Three\",\"Four\",\"Five\"}.\n",
        " WAP to count the length of reach element from a list and write to the file in the given below format:\n",
        "One, 3\n",
        "Two, 3\n",
        "Four, 4"
      ],
      "metadata": {
        "id": "Q0sCR15sYbEP"
      }
    },
    {
      "cell_type": "code",
      "source": [
        "L=[\"One\",\"Two\",\"Three\",\"Four\",\"Five\"]"
      ],
      "metadata": {
        "id": "J085hjzrYeDG"
      },
      "execution_count": null,
      "outputs": []
    },
    {
      "cell_type": "code",
      "source": [
        "fp=open(\"file2.txt\",\"w\")\n",
        "for i in range(1,5):\n",
        "  fp.write(f\"{i},{L[i-1]}\\n\")\n",
        "fp.close()"
      ],
      "metadata": {
        "id": "WGzhgrLDYjlz"
      },
      "execution_count": null,
      "outputs": []
    },
    {
      "cell_type": "markdown",
      "source": [
        "Q9. Write to the file 100 random strings whose length between 10 and 15."
      ],
      "metadata": {
        "id": "MqnwQDTwZfqT"
      }
    },
    {
      "cell_type": "code",
      "source": [
        "import random as r\n",
        "import string as s\n",
        "\n",
        "L2=s.ascii_letters\n",
        "def string(n):\n",
        "  x=r.sample(L2,r.randint(11,15))\n",
        "  y=\"\".join(x)\n",
        "  return y\n",
        "fp=open(\"file3.txt\",\"w\")\n",
        "for i in range(0,100):\n",
        "  fp.write(f\"{string(i)}\\n\")\n",
        "fp.close()"
      ],
      "metadata": {
        "id": "2XuNwvKKZgy0"
      },
      "execution_count": null,
      "outputs": []
    },
    {
      "cell_type": "markdown",
      "source": [
        "Q10. Write to the file all prime numbers between 600 and 800."
      ],
      "metadata": {
        "id": "xObug0ZEM6Yx"
      }
    },
    {
      "cell_type": "code",
      "source": [
        "def prime_no(n):\n",
        "  for i in range(2,n//2+1):\n",
        "    if(n%i==0):\n",
        "      return 0\n",
        "  return 1\n",
        "fp=open(\"file4.txt\",\"w\")\n",
        "for i in range(601,800):\n",
        "  if(prime_no(i)==1):\n",
        "    fp.write(f\"{i}\\n\")\n",
        "fp.close()"
      ],
      "metadata": {
        "id": "2hytN4XafuW7"
      },
      "execution_count": null,
      "outputs": []
    },
    {
      "cell_type": "code",
      "source": [
        "L=[1,2,3,4,5]"
      ],
      "metadata": {
        "id": "JO_v6-FjVzuc"
      },
      "execution_count": null,
      "outputs": []
    },
    {
      "cell_type": "markdown",
      "source": [
        "Q11. WAP to calculate the time taken by a program"
      ],
      "metadata": {
        "id": "tsHqjos6Ui7P"
      }
    },
    {
      "cell_type": "code",
      "source": [
        "%timeit L[2]        # Accessing a single element\n"
      ],
      "metadata": {
        "colab": {
          "base_uri": "https://localhost:8080/"
        },
        "id": "vNMUtQvhVaaV",
        "outputId": "e8cd602d-d414-4fe4-cd58-65fb6bef4ff1"
      },
      "execution_count": null,
      "outputs": [
        {
          "output_type": "stream",
          "name": "stdout",
          "text": [
            "23.3 ns ± 0.711 ns per loop (mean ± std. dev. of 7 runs, 10000000 loops each)\n"
          ]
        }
      ]
    },
    {
      "cell_type": "markdown",
      "source": [
        "Q13. WAP to create a dictionary of student marks in five subjects and you have to find the student\n",
        " having maximum and minimum average m"
      ],
      "metadata": {
        "id": "MQlaUvgEUiIZ"
      }
    },
    {
      "cell_type": "code",
      "source": [
        "D={1:78,2:94,3:88,4:89}"
      ],
      "metadata": {
        "id": "b8_3qxfqWlBQ"
      },
      "execution_count": null,
      "outputs": []
    },
    {
      "cell_type": "code",
      "source": [
        "L=[D.values()]\n",
        "print(L)\n",
        "print(min(D.values()))\n",
        "print(max(D.values()))"
      ],
      "metadata": {
        "colab": {
          "base_uri": "https://localhost:8080/"
        },
        "id": "hgG54PFlWwzh",
        "outputId": "96a3d050-07e7-4674-9088-45706b1a7356"
      },
      "execution_count": null,
      "outputs": [
        {
          "output_type": "stream",
          "name": "stdout",
          "text": [
            "[dict_values([78, 94, 88, 89])]\n",
            "78\n",
            "94\n"
          ]
        }
      ]
    }
  ]
}